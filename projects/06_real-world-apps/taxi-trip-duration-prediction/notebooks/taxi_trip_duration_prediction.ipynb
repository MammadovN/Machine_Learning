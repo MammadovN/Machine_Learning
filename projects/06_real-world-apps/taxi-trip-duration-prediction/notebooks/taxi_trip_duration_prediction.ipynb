{
  "nbformat": 4,
  "nbformat_minor": 0,
  "metadata": {
    "colab": {
      "provenance": [],
      "gpuType": "V6E1",
      "machine_shape": "hm",
      "authorship_tag": "ABX9TyPsUk39DufbbP1lbhrtU/gL",
      "include_colab_link": true
    },
    "kernelspec": {
      "name": "python3",
      "display_name": "Python 3"
    },
    "language_info": {
      "name": "python"
    },
    "accelerator": "TPU"
  },
  "cells": [
    {
      "cell_type": "markdown",
      "metadata": {
        "id": "view-in-github",
        "colab_type": "text"
      },
      "source": [
        "<a href=\"https://colab.research.google.com/github/MammadovN/Machine_Learning/blob/main/projects/06_real-world-apps/taxi-trip-duration-prediction/notebooks/taxi_trip_duration_prediction.ipynb\" target=\"_parent\"><img src=\"https://colab.research.google.com/assets/colab-badge.svg\" alt=\"Open In Colab\"/></a>"
      ]
    },
    {
      "cell_type": "code",
      "execution_count": 1,
      "metadata": {
        "id": "BlECPsmdpvIi",
        "colab": {
          "base_uri": "https://localhost:8080/"
        },
        "outputId": "d8774977-7af0-4a7b-dbb2-d74db58676da"
      },
      "outputs": [
        {
          "output_type": "stream",
          "name": "stdout",
          "text": [
            "Mounted at /content/drive\n"
          ]
        }
      ],
      "source": [
        "from google.colab import drive\n",
        "drive.mount('/content/drive')        # Authorise in the popup window"
      ]
    },
    {
      "cell_type": "code",
      "source": [
        "from pathlib import Path, PurePosixPath\n",
        "import os\n",
        "\n",
        "# Root directory for the project inside Google Drive\n",
        "PROJECT_ROOT = Path(\"/content/drive/MyDrive/taxi-trip-duration\")\n",
        "\n",
        "# Sub-directories you want\n",
        "subdirs = [\n",
        "    PROJECT_ROOT / \"data\" / \"raw\",\n",
        "    PROJECT_ROOT / \"data\" / \"processed\",\n",
        "    PROJECT_ROOT / \"notebooks\",\n",
        "    PROJECT_ROOT / \"src\",\n",
        "    PROJECT_ROOT / \"models\",\n",
        "]\n",
        "\n",
        "# Make the folders (parents=True handles nested paths)\n",
        "for d in subdirs:\n",
        "    d.mkdir(parents=True, exist_ok=True)\n",
        "\n",
        "# Add a simple .gitignore if it doesn’t already exist\n",
        "gitignore = PROJECT_ROOT / \".gitignore\"\n",
        "if not gitignore.exists():\n",
        "    gitignore.write_text(\n",
        "        \"# Ignore large or generated files\\n\"\n",
        "        \"data/\\n\"\n",
        "        \"models/\\n\"\n",
        "        \".ipynb_checkpoints/\\n\"\n",
        "    )\n",
        "\n",
        "# Display the resulting tree\n",
        "print(\"Project structure:\")\n",
        "for root, _, _ in os.walk(PROJECT_ROOT):\n",
        "    indent_level = len(PurePosixPath(root).relative_to(PROJECT_ROOT).parts)\n",
        "    indent = \"    \" * indent_level + (\"└── \" if indent_level else \"\")\n",
        "    print(f\"{indent}{Path(root).name}/\")\n"
      ],
      "metadata": {
        "colab": {
          "base_uri": "https://localhost:8080/"
        },
        "id": "P2vUsXhlvz0I",
        "outputId": "41c7da53-cbc5-48e8-a402-dd20d571ef0d"
      },
      "execution_count": 2,
      "outputs": [
        {
          "output_type": "stream",
          "name": "stdout",
          "text": [
            "Project structure:\n",
            "taxi-trip-duration/\n",
            "    └── data/\n",
            "        └── raw/\n",
            "        └── processed/\n",
            "    └── notebooks/\n",
            "    └── src/\n",
            "    └── models/\n"
          ]
        }
      ]
    },
    {
      "cell_type": "code",
      "source": [
        "!ls -R /content/drive/MyDrive/taxi-trip-duration/src\n"
      ],
      "metadata": {
        "colab": {
          "base_uri": "https://localhost:8080/"
        },
        "id": "j7mod1fFwAIS",
        "outputId": "60ae8e65-5383-4c5f-a0e3-f7e441762dba"
      },
      "execution_count": 3,
      "outputs": [
        {
          "output_type": "stream",
          "name": "stdout",
          "text": [
            "/content/drive/MyDrive/taxi-trip-duration/src:\n"
          ]
        }
      ]
    },
    {
      "cell_type": "code",
      "source": [
        "# 0-a.  Install Python libraries\n",
        "!pip install -q polars lightgbm scikit-learn\n",
        "\n",
        "# 0-b.  Add src/ to Python path  ➜  so imports work everywhere\n",
        "import sys, pathlib\n",
        "sys.path.append('/content/drive/MyDrive/taxi-trip-duration/src')\n"
      ],
      "metadata": {
        "colab": {
          "base_uri": "https://localhost:8080/"
        },
        "id": "rbgJ0gz_w7QD",
        "outputId": "5f9c8af5-6e14-42c5-aacb-fb7becd38620"
      },
      "execution_count": 5,
      "outputs": [
        {
          "output_type": "stream",
          "name": "stdout",
          "text": [
            "\u001b[2K   \u001b[90m━━━━━━━━━━━━━━━━━━━━━━━━━━━━━━━━━━━━━━━━\u001b[0m \u001b[32m34.8/34.8 MB\u001b[0m \u001b[31m110.3 MB/s\u001b[0m eta \u001b[36m0:00:00\u001b[0m\n",
            "\u001b[2K   \u001b[90m━━━━━━━━━━━━━━━━━━━━━━━━━━━━━━━━━━━━━━━━\u001b[0m \u001b[32m3.6/3.6 MB\u001b[0m \u001b[31m135.4 MB/s\u001b[0m eta \u001b[36m0:00:00\u001b[0m\n",
            "\u001b[?25h"
          ]
        }
      ]
    },
    {
      "cell_type": "code",
      "source": [
        "!mkdir -p ~/.kaggle\n",
        "!cp /content/kaggle.json ~/.kaggle/          # now the file exists\n",
        "!chmod 600 ~/.kaggle/kaggle.json\n"
      ],
      "metadata": {
        "id": "w85HDV48xUde"
      },
      "execution_count": 10,
      "outputs": []
    },
    {
      "cell_type": "code",
      "source": [
        "!kaggle competitions download -c nyc-taxi-trip-duration \\\n",
        "        -p /content/drive/MyDrive/taxi-trip-duration/data/raw\n"
      ],
      "metadata": {
        "id": "j8tDL8VOzT8B"
      },
      "execution_count": 11,
      "outputs": []
    },
    {
      "cell_type": "code",
      "source": [
        "# Proje içindeki raw klasörünü listele\n",
        "!ls -lh /content/drive/MyDrive/taxi-trip-duration/data/raw\n"
      ],
      "metadata": {
        "colab": {
          "base_uri": "https://localhost:8080/"
        },
        "id": "eSUQIo3m3iRi",
        "outputId": "981ed665-45e0-43e3-e070-3cd1e4d916ef"
      },
      "execution_count": 13,
      "outputs": [
        {
          "output_type": "stream",
          "name": "stdout",
          "text": [
            "total 86M\n",
            "-rw------- 1 root root 86M Dec 11  2019 nyc-taxi-trip-duration.zip\n"
          ]
        }
      ]
    },
    {
      "cell_type": "code",
      "source": [
        "%%bash\n",
        "# move to the raw-data folder\n",
        "cd /content/drive/MyDrive/taxi-trip-duration/data/raw\n",
        "\n",
        "# unzip every ZIP in that folder\n",
        "for z in *.zip; do\n",
        "  unzip -o \"$z\" -d .\n",
        "done\n"
      ],
      "metadata": {
        "colab": {
          "base_uri": "https://localhost:8080/"
        },
        "id": "luO7WHn91hRZ",
        "outputId": "c081d7a2-7a32-4466-a8fd-175d381ad250"
      },
      "execution_count": 16,
      "outputs": [
        {
          "output_type": "stream",
          "name": "stdout",
          "text": [
            "Archive:  nyc-taxi-trip-duration.zip\n",
            "  inflating: ./sample_submission.zip  \n",
            "  inflating: ./test.zip              \n",
            "  inflating: ./train.zip             \n",
            "Archive:  sample_submission.zip\n",
            "  inflating: ./sample_submission.csv  \n",
            "Archive:  test.zip\n",
            "  inflating: ./test.csv              \n",
            "Archive:  train.zip\n",
            "  inflating: ./train.csv             \n"
          ]
        }
      ]
    },
    {
      "cell_type": "code",
      "source": [
        "%%writefile /content/drive/MyDrive/taxi-trip-duration/src/preprocess.py\n",
        "import polars as pl\n",
        "\n",
        "def clean_data(df: pl.DataFrame) -> pl.DataFrame:\n",
        "    \"\"\"Remove obvious outliers & nulls.\"\"\"\n",
        "    return (\n",
        "        df.filter(\n",
        "            (pl.col(\"trip_duration\").is_between(60, 7200))\n",
        "            & (pl.col(\"passenger_count\") > 0)\n",
        "        )\n",
        "        .drop_nulls()\n",
        "    )"
      ],
      "metadata": {
        "colab": {
          "base_uri": "https://localhost:8080/"
        },
        "id": "8fhKAIJdxaq9",
        "outputId": "0ebe9a8d-210f-48df-c678-1863b56950a0"
      },
      "execution_count": 17,
      "outputs": [
        {
          "output_type": "stream",
          "name": "stdout",
          "text": [
            "Writing /content/drive/MyDrive/taxi-trip-duration/src/preprocess.py\n"
          ]
        }
      ]
    },
    {
      "cell_type": "code",
      "source": [
        "%%writefile /content/drive/MyDrive/taxi-trip-duration/src/features.py\n",
        "import polars as pl\n",
        "\n",
        "def build_features(df: pl.DataFrame) -> pl.DataFrame:\n",
        "    df = df.with_columns(\n",
        "        pl.col(\"pickup_datetime\").str.strptime(pl.Datetime).alias(\"pickup_dt\")\n",
        "    )\n",
        "    return (\n",
        "        df.with_columns([\n",
        "            pl.col(\"pickup_dt\").dt.hour().alias(\"pickup_hour\"),\n",
        "            pl.col(\"pickup_dt\").dt.weekday().alias(\"pickup_wday\"),\n",
        "            pl.col(\"pickup_dt\").dt.month().alias(\"pickup_month\"),\n",
        "            (\n",
        "                (pl.col(\"pickup_longitude\") - pl.col(\"dropoff_longitude\")).abs()\n",
        "              + (pl.col(\"pickup_latitude\")  - pl.col(\"dropoff_latitude\")).abs()\n",
        "            ).alias(\"manhattan_dist\")\n",
        "        ])\n",
        "        .select([\n",
        "            \"vendor_id\", \"passenger_count\",\n",
        "            \"pickup_hour\", \"pickup_wday\", \"pickup_month\",\n",
        "            \"manhattan_dist\",\n",
        "            \"trip_duration\"\n",
        "        ])\n",
        "    )\n"
      ],
      "metadata": {
        "colab": {
          "base_uri": "https://localhost:8080/"
        },
        "id": "vlDZncv_xcYL",
        "outputId": "58f51b5f-96f9-48de-e994-853def940a61"
      },
      "execution_count": 18,
      "outputs": [
        {
          "output_type": "stream",
          "name": "stdout",
          "text": [
            "Writing /content/drive/MyDrive/taxi-trip-duration/src/features.py\n"
          ]
        }
      ]
    },
    {
      "cell_type": "code",
      "source": [
        "%%writefile /content/drive/MyDrive/taxi-trip-duration/src/train.py\n",
        "import polars as pl, joblib, math, lightgbm as lgb\n",
        "from sklearn.model_selection import train_test_split\n",
        "from sklearn.metrics import mean_squared_log_error\n",
        "from preprocess import clean_data\n",
        "from features   import build_features\n",
        "from pathlib import Path\n",
        "\n",
        "def train_and_save(raw_csv: str, model_dir: str):\n",
        "    df = pl.read_csv(raw_csv)\n",
        "    df = clean_data(df)\n",
        "    df = build_features(df)\n",
        "\n",
        "    X = df.drop(\"trip_duration\").to_pandas()\n",
        "    y = df[\"trip_duration\"].to_pandas()\n",
        "\n",
        "    X_tr, X_val, y_tr, y_val = train_test_split(\n",
        "        X, y, test_size=0.2, random_state=42\n",
        "    )\n",
        "\n",
        "    params = dict(\n",
        "        objective=\"regression\",\n",
        "        metric=\"rmse\",\n",
        "        learning_rate=0.1,\n",
        "        num_leaves=64,\n",
        "        seed=42,\n",
        "    )\n",
        "\n",
        "    dtrain = lgb.Dataset(X_tr, y_tr)\n",
        "    dval   = lgb.Dataset(X_val, y_val, reference=dtrain)\n",
        "\n",
        "    model = lgb.train(\n",
        "        params,\n",
        "        dtrain,\n",
        "        valid_sets=[dval],\n",
        "        callbacks=[lgb.early_stopping(50)]      # ← NEW\n",
        "    )\n",
        "\n",
        "    rmsle = math.sqrt(mean_squared_log_error(y_val, model.predict(X_val)))\n",
        "    print(f\"Validation RMSLE: {rmsle:.4f}\")\n",
        "\n",
        "    Path(model_dir).mkdir(parents=True, exist_ok=True)\n",
        "    joblib.dump(model, f\"{model_dir}/lgbm.pkl\")\n",
        "\n",
        "if __name__ == \"__main__\":\n",
        "    train_and_save(\n",
        "        \"/content/drive/MyDrive/taxi-trip-duration/data/raw/train.csv\",\n",
        "        \"/content/drive/MyDrive/taxi-trip-duration/models\"\n",
        "    )\n"
      ],
      "metadata": {
        "colab": {
          "base_uri": "https://localhost:8080/"
        },
        "id": "f7JTEKeKxfIi",
        "outputId": "d6a1e6e2-888e-4a31-c1d8-7966140c5b4b"
      },
      "execution_count": 21,
      "outputs": [
        {
          "output_type": "stream",
          "name": "stdout",
          "text": [
            "Writing /content/drive/MyDrive/taxi-trip-duration/src/train.py\n"
          ]
        }
      ]
    },
    {
      "cell_type": "code",
      "source": [
        "!python /content/drive/MyDrive/taxi-trip-duration/src/train.py"
      ],
      "metadata": {
        "colab": {
          "base_uri": "https://localhost:8080/"
        },
        "id": "zxp9SyFExhGS",
        "outputId": "7b985d38-82c7-45f1-a6db-3c1b801e8b15"
      },
      "execution_count": 22,
      "outputs": [
        {
          "output_type": "stream",
          "name": "stdout",
          "text": [
            "[LightGBM] [Info] Auto-choosing row-wise multi-threading, the overhead of testing was 0.010671 seconds.\n",
            "You can set `force_row_wise=true` to remove the overhead.\n",
            "And if memory is not enough, you can set `force_col_wise=true`.\n",
            "[LightGBM] [Info] Total Bins 305\n",
            "[LightGBM] [Info] Number of data points in the train set: 1158223, number of used features: 6\n",
            "[LightGBM] [Info] Start training from score 841.140317\n",
            "Training until validation scores don't improve for 50 rounds\n",
            "Did not meet early stopping. Best iteration is:\n",
            "[98]\tvalid_0's rmse: 351.038\n",
            "Validation RMSLE: 0.4203\n"
          ]
        }
      ]
    },
    {
      "cell_type": "code",
      "source": [
        "import joblib, pandas as pd, datetime\n",
        "from features import build_features\n",
        "\n",
        "model = joblib.load('/content/drive/MyDrive/taxi-trip-duration/models/lgbm.pkl')\n",
        "\n",
        "def predict_one(row_dict):\n",
        "    df = pd.DataFrame([row_dict])\n",
        "    # Convert to Polars, build features, back to pandas\n",
        "    import polars as pl\n",
        "    features = build_features(pl.from_pandas(df).with_columns(pl.lit(0).alias(\"trip_duration\")))\n",
        "    return int(model.predict(features.drop(\"trip_duration\").to_pandas())[0])\n",
        "\n",
        "example = dict(\n",
        "    vendor_id=1, passenger_count=1,\n",
        "    pickup_datetime=datetime.datetime.now().isoformat(),\n",
        "    pickup_longitude=-73.985428, pickup_latitude=40.748817,\n",
        "    dropoff_longitude=-73.985428, dropoff_latitude=40.748817,\n",
        ")\n",
        "print(predict_one(example), \"seconds\")\n"
      ],
      "metadata": {
        "colab": {
          "base_uri": "https://localhost:8080/"
        },
        "id": "B9nXjgivyUJ5",
        "outputId": "a1ad3e7c-73a7-4042-ff31-bfc536a580f8"
      },
      "execution_count": 23,
      "outputs": [
        {
          "output_type": "stream",
          "name": "stdout",
          "text": [
            "552 seconds\n"
          ]
        }
      ]
    },
    {
      "cell_type": "code",
      "source": [],
      "metadata": {
        "id": "vVO4aRz_KvUz"
      },
      "execution_count": null,
      "outputs": []
    }
  ]
}