{
  "nbformat": 4,
  "nbformat_minor": 0,
  "metadata": {
    "colab": {
      "provenance": [],
      "gpuType": "T4",
      "authorship_tag": "ABX9TyMMfdsx1iFzJVUd1CtxRCAY",
      "include_colab_link": true
    },
    "kernelspec": {
      "name": "python3",
      "display_name": "Python 3"
    },
    "language_info": {
      "name": "python"
    },
    "accelerator": "GPU"
  },
  "cells": [
    {
      "cell_type": "markdown",
      "metadata": {
        "id": "view-in-github",
        "colab_type": "text"
      },
      "source": [
        "<a href=\"https://colab.research.google.com/github/MammadovN/Machine_Learning/blob/main/projects/04_natural_language_processing/sentiment-analysis/movie_sentiment_analyzer.ipynb\" target=\"_parent\"><img src=\"https://colab.research.google.com/assets/colab-badge.svg\" alt=\"Open In Colab\"/></a>"
      ]
    },
    {
      "cell_type": "code",
      "source": [
        "!pip install transformers datasets"
      ],
      "metadata": {
        "id": "duIyEhF3I4mX"
      },
      "execution_count": null,
      "outputs": []
    },
    {
      "cell_type": "code",
      "execution_count": null,
      "metadata": {
        "id": "0BS_oGWXI3Qc"
      },
      "outputs": [],
      "source": [
        "import os\n",
        "import random\n",
        "import numpy as np\n",
        "import torch\n",
        "from datasets import load_dataset, Dataset\n",
        "from sklearn.feature_extraction.text import TfidfVectorizer\n",
        "from sklearn.linear_model import LogisticRegression\n",
        "from sklearn.metrics import accuracy_score, classification_report\n",
        "from transformers import (\n",
        "    DistilBertTokenizerFast,\n",
        "    DistilBertForSequenceClassification,\n",
        "    Trainer,\n",
        "    TrainingArguments,\n",
        "    pipeline\n",
        ")\n",
        "\n",
        "\n",
        "def set_seed(seed: int = 42):\n",
        "    random.seed(seed)\n",
        "    np.random.seed(seed)\n",
        "    torch.manual_seed(seed)\n",
        "    if torch.cuda.is_available():\n",
        "        torch.cuda.manual_seed_all(seed)\n"
      ]
    },
    {
      "cell_type": "code",
      "source": [
        "def load_data():\n",
        "    dataset = load_dataset('imdb')\n",
        "    train_texts = dataset['train']['text']\n",
        "    train_labels = dataset['train']['label']\n",
        "    test_texts = dataset['test']['text']\n",
        "    test_labels = dataset['test']['label']\n",
        "    return train_texts, train_labels, test_texts, test_labels"
      ],
      "metadata": {
        "id": "dKLiXCfjJLIJ"
      },
      "execution_count": null,
      "outputs": []
    },
    {
      "cell_type": "code",
      "source": [
        "def baseline_model(train_texts, train_labels, test_texts, test_labels):\n",
        "    print(\"\\n[Baseline] Training TF-IDF + LogisticRegression...\")\n",
        "    vectorizer = TfidfVectorizer(max_features=20000, ngram_range=(1,2), stop_words='english')\n",
        "    X_train = vectorizer.fit_transform(train_texts)\n",
        "    X_test = vectorizer.transform(test_texts)\n",
        "    clf = LogisticRegression(max_iter=1000)\n",
        "    clf.fit(X_train, train_labels)\n",
        "    preds = clf.predict(X_test)\n",
        "    print(\"Baseline Accuracy:\", accuracy_score(test_labels, preds))\n",
        "    print(\"Classification Report:\\n\", classification_report(test_labels, preds))"
      ],
      "metadata": {
        "id": "LYfK8_FVJLti"
      },
      "execution_count": null,
      "outputs": []
    },
    {
      "cell_type": "code",
      "source": [
        "def fine_tune_transformer(train_texts, train_labels, test_texts, test_labels):\n",
        "    print(\"\\n[Transformer] Preparing data and model...\")\n",
        "    tokenizer = DistilBertTokenizerFast.from_pretrained('distilbert-base-uncased')\n",
        "    train_encodings = tokenizer(train_texts, truncation=True, padding=True, max_length=512)\n",
        "    test_encodings = tokenizer(test_texts, truncation=True, padding=True, max_length=512)\n",
        "\n",
        "    train_dataset = Dataset.from_dict({\n",
        "        'input_ids': train_encodings['input_ids'],\n",
        "        'attention_mask': train_encodings['attention_mask'],\n",
        "        'labels': train_labels\n",
        "    })\n",
        "    test_dataset = Dataset.from_dict({\n",
        "        'input_ids': test_encodings['input_ids'],\n",
        "        'attention_mask': test_encodings['attention_mask'],\n",
        "        'labels': test_labels\n",
        "    })\n",
        "\n",
        "    model = DistilBertForSequenceClassification.from_pretrained(\n",
        "        'distilbert-base-uncased', num_labels=2\n",
        "    )\n",
        "\n",
        "    training_args = TrainingArguments(\n",
        "        output_dir='./results',\n",
        "        num_train_epochs=2,\n",
        "        per_device_train_batch_size=16,\n",
        "        per_device_eval_batch_size=32,\n",
        "        eval_strategy='epoch',\n",
        "        save_strategy='epoch',\n",
        "        load_best_model_at_end=True,\n",
        "        metric_for_best_model='accuracy',\n",
        "        report_to=\"none\"      # <-- W&B ve diğer loglama mekanizmalarını kapatır\n",
        "    )\n",
        "\n",
        "    def compute_metrics(eval_pred):\n",
        "        logits, labels = eval_pred\n",
        "        preds = np.argmax(logits, axis=1)\n",
        "        acc = (preds == labels).mean()\n",
        "        return {'accuracy': acc}\n",
        "\n",
        "    trainer = Trainer(\n",
        "        model=model,\n",
        "        args=training_args,\n",
        "        train_dataset=train_dataset,\n",
        "        eval_dataset=test_dataset,\n",
        "        compute_metrics=compute_metrics\n",
        "    )\n",
        "\n",
        "    print(\"\\n[Transformer] Training...\")\n",
        "    trainer.train()\n",
        "    eval_result = trainer.evaluate()\n",
        "    print(\"Transformer Evaluation:\\n\", eval_result)\n",
        "\n",
        "    os.makedirs('./sentiment_model', exist_ok=True)\n",
        "    model.save_pretrained('./sentiment_model')\n",
        "    tokenizer.save_pretrained('./sentiment_model')\n",
        "    print(\"Model saved to ./sentiment_model\")\n"
      ],
      "metadata": {
        "id": "Hbx0XxUwJOm7"
      },
      "execution_count": null,
      "outputs": []
    },
    {
      "cell_type": "code",
      "source": [
        "def inference(text: str):\n",
        "    print(f\"\\n[Inference] \\\"{text}\\\"\")\n",
        "    sentiment_pipeline = pipeline(\n",
        "        'sentiment-analysis',\n",
        "        model='./sentiment_model',\n",
        "        tokenizer='./sentiment_model'\n",
        "    )\n",
        "    result = sentiment_pipeline(text)\n",
        "    print(result)\n"
      ],
      "metadata": {
        "id": "2rke8ERsJXc1"
      },
      "execution_count": null,
      "outputs": []
    },
    {
      "cell_type": "code",
      "source": [
        "if __name__ == '__main__':\n",
        "    set_seed()\n",
        "    train_texts, train_labels, test_texts, test_labels = load_data()\n",
        "    baseline_model(train_texts, train_labels, test_texts, test_labels)\n",
        "    fine_tune_transformer(train_texts, train_labels, test_texts, test_labels)\n",
        "    inference(\"This movie was fantastic! I loved it.\")"
      ],
      "metadata": {
        "collapsed": true,
        "id": "OnedxHHyJbJc"
      },
      "execution_count": null,
      "outputs": []
    }
  ]
}