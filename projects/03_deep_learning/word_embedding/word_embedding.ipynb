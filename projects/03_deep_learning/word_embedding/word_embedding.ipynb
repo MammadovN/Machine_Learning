{
  "nbformat": 4,
  "nbformat_minor": 0,
  "metadata": {
    "colab": {
      "provenance": [],
      "gpuType": "T4",
      "authorship_tag": "ABX9TyPFjLH23NJMYcTtznLbMHe7",
      "include_colab_link": true
    },
    "kernelspec": {
      "name": "python3",
      "display_name": "Python 3"
    },
    "language_info": {
      "name": "python"
    },
    "accelerator": "GPU"
  },
  "cells": [
    {
      "cell_type": "markdown",
      "metadata": {
        "id": "view-in-github",
        "colab_type": "text"
      },
      "source": [
        "<a href=\"https://colab.research.google.com/github/MammadovN/Machine_Learning/blob/main/projects/03_deep_learning/word_embedding/word_embedding.ipynb\" target=\"_parent\"><img src=\"https://colab.research.google.com/assets/colab-badge.svg\" alt=\"Open In Colab\"/></a>"
      ]
    },
    {
      "cell_type": "code",
      "source": [
        "# Colab Notebook: Word Embedding Project (Drive-Free)\n",
        "\n",
        "# 00. Environment Setup\n",
        "#@title 00. Environment Setup\n",
        "!pip install --quiet --upgrade scipy==1.10.1 gensim==4.3.1 pandas scikit-learn matplotlib nltk tensorflow\n",
        "\n",
        "# SciPy patch: if scipy.linalg.triu is missing, use numpy.triu\n",
        "import scipy.linalg as linalg\n",
        "import numpy as np\n",
        "if not hasattr(linalg, 'triu'):\n",
        "    linalg.triu = np.triu\n",
        "\n",
        "print(\"Environment is ready!\")\n"
      ],
      "metadata": {
        "colab": {
          "base_uri": "https://localhost:8080/"
        },
        "id": "7GnPgc7XTOAW",
        "outputId": "c9637a2a-98b4-465a-ef08-555027e7ea5a"
      },
      "execution_count": 11,
      "outputs": [
        {
          "output_type": "stream",
          "name": "stdout",
          "text": [
            "\u001b[33mWARNING: Ignoring invalid distribution ~umpy (/usr/local/lib/python3.11/dist-packages)\u001b[0m\u001b[33m\n",
            "\u001b[0m\u001b[33mWARNING: Ignoring invalid distribution ~umpy (/usr/local/lib/python3.11/dist-packages)\u001b[0m\u001b[33m\n",
            "\u001b[0m\u001b[33mWARNING: Ignoring invalid distribution ~umpy (/usr/local/lib/python3.11/dist-packages)\u001b[0m\u001b[33m\n",
            "\u001b[0m\u001b[33mWARNING: Ignoring invalid distribution ~umpy (/usr/local/lib/python3.11/dist-packages)\u001b[0m\u001b[33m\n",
            "\u001b[0mEnvironment is ready!\n"
          ]
        }
      ]
    },
    {
      "cell_type": "code",
      "source": [
        "# 01. Data Preparation (NLTK Gutenberg)\n",
        "#@title 01. Data Preparation\n",
        "from nltk.corpus import gutenberg\n",
        "import re\n",
        "\n",
        "# Text cleaning function\n",
        "def clean_text(text):\n",
        "    text = text.lower()\n",
        "    text = re.sub(r\"[^a-z']\", \" \", text)\n",
        "    text = re.sub(r\"\\s+\", \" \", text).strip()\n",
        "    return text\n",
        "\n",
        "# Split raw text into sentences and tokenize words using simple .split()\n",
        "sentences = []\n",
        "for file_id in gutenberg.fileids():\n",
        "    raw_text = gutenberg.raw(file_id)\n",
        "    for segment in re.split(r\"[\\.!?]\", raw_text):\n",
        "        cleaned = clean_text(segment)\n",
        "        tokens = cleaned.split()\n",
        "        if tokens:\n",
        "            sentences.append(tokens)\n",
        "\n",
        "print(f\"Total of {len(sentences)} sentences prepared.\")\n"
      ],
      "metadata": {
        "colab": {
          "base_uri": "https://localhost:8080/"
        },
        "id": "5hn4dcApUntq",
        "outputId": "3d7474b1-d795-47a8-c0f6-ac622d945103"
      },
      "execution_count": 13,
      "outputs": [
        {
          "output_type": "stream",
          "name": "stdout",
          "text": [
            "Total of 100533 sentences prepared.\n"
          ]
        }
      ]
    },
    {
      "cell_type": "code",
      "source": [
        "# 02. Embedding Training\n",
        "#@title 02. Embedding Training\n",
        "from gensim.models import Word2Vec, FastText\n",
        "\n",
        "# Word2Vec\n",
        "w2v_model = Word2Vec(\n",
        "    sentences,\n",
        "    vector_size=100,\n",
        "    window=5,\n",
        "    min_count=5,\n",
        "    sg=1,\n",
        "    epochs=5,\n",
        "    workers=4\n",
        ")\n",
        "w2v_model.save('word2vec.model')\n",
        "print(\"Word2Vec model saved as: word2vec.model\")\n",
        "\n",
        "# FastText\n",
        "ft_model = FastText(\n",
        "    sentences,\n",
        "    vector_size=100,\n",
        "    window=5,\n",
        "    min_count=5,\n",
        "    sg=1,\n",
        "    epochs=5,\n",
        "    workers=4\n",
        ")\n",
        "ft_model.save('fasttext.model')\n",
        "print(\"FastText model saved as: fasttext.model\")\n"
      ],
      "metadata": {
        "colab": {
          "base_uri": "https://localhost:8080/"
        },
        "id": "Pd1T1IoCXKJl",
        "outputId": "83dd56ad-c248-45c7-893a-76b99a55e1f7"
      },
      "execution_count": 14,
      "outputs": [
        {
          "output_type": "stream",
          "name": "stdout",
          "text": [
            "Word2Vec model saved as: word2vec.model\n",
            "FastText model saved as: fasttext.model\n"
          ]
        }
      ]
    },
    {
      "cell_type": "code",
      "source": [
        "# 03. Intrinsic Evaluation\n",
        "#@title 03. Intrinsic Evaluation\n",
        "\n",
        "from gensim.models import Word2Vec\n",
        "import numpy as np\n",
        "from sklearn.manifold import TSNE\n",
        "import matplotlib.pyplot as plt\n",
        "\n",
        "# Load the Word2Vec model and get access to its KeyedVectors\n",
        "loaded_w2v = Word2Vec.load('word2vec.model')\n",
        "w2v = loaded_w2v.wv\n",
        "\n",
        "# Example analogy and similarity queries\n",
        "print(\"king - man + woman =>\", w2v.most_similar(positive=['king', 'woman'], negative=['man'], topn=5))\n",
        "print(\"similarity between king & queen:\", w2v.similarity('king', 'queen'))\n",
        "\n",
        "# t-SNE visualization (using a small perplexity since sample size is small)\n",
        "words = ['king', 'queen', 'man', 'woman', 'apple', 'orange', 'city', 'village']\n",
        "# Convert vectors to a NumPy array\n",
        "vecs = np.array([w2v[word] for word in words])\n",
        "# Ensure perplexity < number of samples (here 5 < 8)\n",
        "X_tsne = TSNE(n_components=2, random_state=42, perplexity=5).fit_transform(vecs)\n",
        "\n",
        "plt.figure(figsize=(6, 6))\n",
        "plt.scatter(X_tsne[:, 0], X_tsne[:, 1])\n",
        "for i, word in enumerate(words):\n",
        "    plt.annotate(word, (X_tsne[i, 0], X_tsne[i, 1]))\n",
        "plt.title('t-SNE Projection of Sample Words')\n",
        "plt.show()"
      ],
      "metadata": {
        "colab": {
          "base_uri": "https://localhost:8080/",
          "height": 600
        },
        "id": "9EWA0gB4XNX1",
        "outputId": "c10901ba-6312-4ef7-e8b2-c84dc0a7bae1"
      },
      "execution_count": 15,
      "outputs": [
        {
          "output_type": "stream",
          "name": "stdout",
          "text": [
            "king - man + woman => [('vashti', 0.5499433279037476), ('daughter', 0.5323252081871033), ('babylon', 0.5257881283760071), ('esther', 0.5222809314727783), ('laban', 0.5183823704719543)]\n",
            "similarity between king & queen: 0.48619074\n"
          ]
        },
        {
          "output_type": "display_data",
          "data": {
            "text/plain": [
              "<Figure size 600x600 with 1 Axes>"
            ],
            "image/png": "[encoded data removed]"
          },
          "metadata": {}
        }
      ]
    },
    {
      "cell_type": "code",
      "source": [
        "# 04. Downstream Task: IMDB Sentiment Analysis\n",
        "#@title 04. Sentiment Analysis (Keras IMDB)\n",
        "\n",
        "import numpy as np\n",
        "from tensorflow.keras.datasets import imdb\n",
        "from sklearn.linear_model import LogisticRegression\n",
        "from sklearn.metrics import accuracy_score, f1_score\n",
        "\n",
        "# 1) Load data\n",
        "top_words = 10000\n",
        "(X_train, y_train), (X_test, y_test) = imdb.load_data(num_words=top_words)\n",
        "word_index = imdb.get_word_index()\n",
        "# Reserve indices for special tokens\n",
        "index_word = {v + 3: k for k, v in word_index.items()}\n",
        "index_word.update({0: '<PAD>', 1: '<START>', 2: '<UNK>', 3: '<UNUSED>'})\n",
        "\n",
        "# Decode integer sequences back into words\n",
        "def decode_review(sequence):\n",
        "    return [index_word.get(i, '?') for i in sequence]\n",
        "\n",
        "train_texts = [' '.join(decode_review(seq)) for seq in X_train]\n",
        "test_texts  = [' '.join(decode_review(seq)) for seq in X_test]\n",
        "\n",
        "# 2) Convert texts into embedding vectors\n",
        "def embed_texts(texts, model):\n",
        "    vectors = []\n",
        "    for text in texts:\n",
        "        tokens = text.split()\n",
        "        # Collect word vectors for tokens present in the model\n",
        "        word_vectors = [model[token] for token in tokens if token in model]\n",
        "        # Use mean pooling or zero vector if no tokens found\n",
        "        if word_vectors:\n",
        "            vectors.append(np.mean(word_vectors, axis=0))\n",
        "        else:\n",
        "            vectors.append(np.zeros(model.vector_size))\n",
        "    return np.vstack(vectors)\n",
        "\n",
        "X_tr = embed_texts(train_texts, w2v)\n",
        "X_te = embed_texts(test_texts,  w2v)\n",
        "\n",
        "y_tr, y_te = y_train, y_test\n",
        "\n",
        "# 3) Classification with Logistic Regression\n",
        "clf = LogisticRegression(max_iter=1000)\n",
        "clf.fit(X_tr, y_tr)\n",
        "preds = clf.predict(X_te)\n",
        "\n",
        "print(\"Accuracy:\", accuracy_score(y_te, preds))\n",
        "print(\"F1-score:\", f1_score(y_te, preds))\n"
      ],
      "metadata": {
        "colab": {
          "base_uri": "https://localhost:8080/"
        },
        "id": "tZcbthdiXOw2",
        "outputId": "20c2147a-12e0-4306-9b08-9676116363b0"
      },
      "execution_count": 16,
      "outputs": [
        {
          "output_type": "stream",
          "name": "stdout",
          "text": [
            "Accuracy: 0.73332\n",
            "F1-score: 0.7301574452584287\n"
          ]
        }
      ]
    }
  ]
}