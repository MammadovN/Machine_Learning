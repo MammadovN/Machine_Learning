{
  "nbformat": 4,
  "nbformat_minor": 0,
  "metadata": {
    "colab": {
      "provenance": [],
      "gpuType": "T4",
      "authorship_tag": "ABX9TyMXRQgLPDMrTtqNk54dV0f1",
      "include_colab_link": true
    },
    "kernelspec": {
      "name": "python3",
      "display_name": "Python 3"
    },
    "language_info": {
      "name": "python"
    },
    "accelerator": "GPU"
  },
  "cells": [
    {
      "cell_type": "markdown",
      "metadata": {
        "id": "view-in-github",
        "colab_type": "text"
      },
      "source": [
        "<a href=\"https://colab.research.google.com/github/MammadovN/Machine_Learning/blob/main/projects/03_deep_learning/sequence_modelling/text_generation_rnn/Text_Generation_Shakespeare.ipynb\" target=\"_parent\"><img src=\"https://colab.research.google.com/assets/colab-badge.svg\" alt=\"Open In Colab\"/></a>"
      ]
    },
    {
      "cell_type": "code",
      "execution_count": 1,
      "metadata": {
        "colab": {
          "base_uri": "https://localhost:8080/"
        },
        "id": "Otb4Cs4gRbky",
        "outputId": "d31724e0-3b34-4ad7-d630-18e28043242d"
      },
      "outputs": [
        {
          "output_type": "stream",
          "name": "stdout",
          "text": [
            "Using device: cuda\n"
          ]
        }
      ],
      "source": [
        "# 🛠️ Install and import libraries\n",
        "import torch\n",
        "import torch.nn as nn\n",
        "import torch.optim as optim\n",
        "import matplotlib.pyplot as plt\n",
        "import requests\n",
        "import random\n",
        "import numpy as np\n",
        "\n",
        "# Device setup\n",
        "device = torch.device('cuda' if torch.cuda.is_available() else 'cpu')\n",
        "print(\"Using device:\", device)"
      ]
    },
    {
      "cell_type": "code",
      "source": [
        "# 📚 Download the dataset\n",
        "url = \"https://raw.githubusercontent.com/karpathy/char-rnn/master/data/tinyshakespeare/input.txt\"\n",
        "response = requests.get(url)\n",
        "text = response.text\n",
        "\n",
        "print(f\"Length of text: {len(text)} characters\")\n",
        "print(\"Sample text:\", text[:500])\n"
      ],
      "metadata": {
        "colab": {
          "base_uri": "https://localhost:8080/"
        },
        "id": "7U-zQ-CZTD3s",
        "outputId": "9be012c8-bd1a-4697-afc8-c05457c90354"
      },
      "execution_count": 2,
      "outputs": [
        {
          "output_type": "stream",
          "name": "stdout",
          "text": [
            "Length of text: 1115394 characters\n",
            "Sample text: First Citizen:\n",
            "Before we proceed any further, hear me speak.\n",
            "\n",
            "All:\n",
            "Speak, speak.\n",
            "\n",
            "First Citizen:\n",
            "You are all resolved rather to die than to famish?\n",
            "\n",
            "All:\n",
            "Resolved. resolved.\n",
            "\n",
            "First Citizen:\n",
            "First, you know Caius Marcius is chief enemy to the people.\n",
            "\n",
            "All:\n",
            "We know't, we know't.\n",
            "\n",
            "First Citizen:\n",
            "Let us kill him, and we'll have corn at our own price.\n",
            "Is't a verdict?\n",
            "\n",
            "All:\n",
            "No more talking on't; let it be done: away, away!\n",
            "\n",
            "Second Citizen:\n",
            "One word, good citizens.\n",
            "\n",
            "First Citizen:\n",
            "We are accounted poor\n"
          ]
        }
      ]
    },
    {
      "cell_type": "code",
      "source": [
        "# 🔤 Preprocessing - character mappings\n",
        "chars = sorted(list(set(text)))\n",
        "vocab_size = len(chars)\n",
        "print(f\"Vocab size: {vocab_size}\")\n",
        "\n",
        "stoi = { ch:i for i,ch in enumerate(chars) }\n",
        "itos = { i:ch for i,ch in enumerate(chars) }\n",
        "\n",
        "def encode(s):\n",
        "    return [stoi[c] for c in s]\n",
        "\n",
        "def decode(l):\n",
        "    return ''.join([itos[i] for i in l])\n"
      ],
      "metadata": {
        "colab": {
          "base_uri": "https://localhost:8080/"
        },
        "id": "VLbSVJKkTQwi",
        "outputId": "02818548-5130-4f7a-e1a6-0e44ee4522a6"
      },
      "execution_count": 3,
      "outputs": [
        {
          "output_type": "stream",
          "name": "stdout",
          "text": [
            "Vocab size: 65\n"
          ]
        }
      ]
    },
    {
      "cell_type": "code",
      "source": [
        "# 📦 Prepare the dataset\n",
        "data = torch.tensor(encode(text), dtype=torch.long)\n",
        "\n",
        "# Train/Validation split\n",
        "n = int(0.9 * len(data))\n",
        "train_data = data[:n]\n",
        "val_data = data[n:]\n",
        "\n",
        "# Data loader\n",
        "def get_batch(split, batch_size, block_size):\n",
        "    data_split = train_data if split == 'train' else val_data\n",
        "    ix = torch.randint(len(data_split) - block_size, (batch_size,))\n",
        "    x = torch.stack([data_split[i:i+block_size] for i in ix])\n",
        "    y = torch.stack([data_split[i+1:i+block_size+1] for i in ix])\n",
        "    return x.to(device), y.to(device)\n"
      ],
      "metadata": {
        "id": "_K0AVHv1Tb-t"
      },
      "execution_count": 4,
      "outputs": []
    },
    {
      "cell_type": "code",
      "source": [
        "# 🧠 Define the LSTM Model\n",
        "class LSTMModel(nn.Module):\n",
        "    def __init__(self, vocab_size, embed_size, hidden_size):\n",
        "        super().__init__()\n",
        "        self.embedding = nn.Embedding(vocab_size, embed_size)\n",
        "        self.lstm = nn.LSTM(embed_size, hidden_size, batch_first=True)\n",
        "        self.fc = nn.Linear(hidden_size, vocab_size)\n",
        "\n",
        "    def forward(self, x, hidden=None):\n",
        "        x = self.embedding(x)\n",
        "        output, hidden = self.lstm(x, hidden)\n",
        "        logits = self.fc(output)\n",
        "        return logits, hidden\n",
        "\n",
        "model = LSTMModel(vocab_size, embed_size=128, hidden_size=256).to(device)"
      ],
      "metadata": {
        "id": "VexqX558Tc5Y"
      },
      "execution_count": 5,
      "outputs": []
    },
    {
      "cell_type": "code",
      "source": [
        "# ⚙️ Training setup\n",
        "batch_size = 64\n",
        "block_size = 128\n",
        "max_iters = 3000\n",
        "eval_interval = 300\n",
        "learning_rate = 1e-3\n",
        "\n",
        "optimizer = optim.Adam(model.parameters(), lr=learning_rate)\n",
        "criterion = nn.CrossEntropyLoss()\n",
        "losses = []\n"
      ],
      "metadata": {
        "id": "fO8ePcKZTc2s"
      },
      "execution_count": 6,
      "outputs": []
    },
    {
      "cell_type": "code",
      "source": [
        "# 🚀 Training loop\n",
        "for iter in range(max_iters):\n",
        "    model.train()\n",
        "    xb, yb = get_batch('train', batch_size, block_size)\n",
        "\n",
        "    logits, _ = model(xb)\n",
        "    logits = logits.view(-1, vocab_size)\n",
        "    yb = yb.view(-1)\n",
        "\n",
        "    loss = criterion(logits, yb)\n",
        "\n",
        "    optimizer.zero_grad()\n",
        "    loss.backward()\n",
        "    optimizer.step()\n",
        "\n",
        "    if iter % eval_interval == 0:\n",
        "        model.eval()\n",
        "        with torch.no_grad():\n",
        "            val_xb, val_yb = get_batch('val', batch_size, block_size)\n",
        "            val_logits, _ = model(val_xb)\n",
        "            val_logits = val_logits.view(-1, vocab_size)\n",
        "            val_yb = val_yb.view(-1)\n",
        "            val_loss = criterion(val_logits, val_yb)\n",
        "\n",
        "        print(f\"Step {iter}: Train Loss {loss.item():.4f}, Val Loss {val_loss.item():.4f}\")\n",
        "        losses.append((iter, loss.item(), val_loss.item()))\n"
      ],
      "metadata": {
        "colab": {
          "base_uri": "https://localhost:8080/"
        },
        "id": "sHWVBxg7X_Xg",
        "outputId": "b8495a4c-a9b8-4817-bf33-639748732008"
      },
      "execution_count": 7,
      "outputs": [
        {
          "output_type": "stream",
          "name": "stdout",
          "text": [
            "Step 0: Train Loss 4.1828, Val Loss 4.1329\n",
            "Step 300: Train Loss 1.8343, Val Loss 1.9421\n",
            "Step 600: Train Loss 1.5716, Val Loss 1.7418\n",
            "Step 900: Train Loss 1.4828, Val Loss 1.6503\n",
            "Step 1200: Train Loss 1.5028, Val Loss 1.6486\n",
            "Step 1500: Train Loss 1.3772, Val Loss 1.5978\n",
            "Step 1800: Train Loss 1.3671, Val Loss 1.5839\n",
            "Step 2100: Train Loss 1.3808, Val Loss 1.6068\n",
            "Step 2400: Train Loss 1.3409, Val Loss 1.5427\n",
            "Step 2700: Train Loss 1.2982, Val Loss 1.5516\n"
          ]
        }
      ]
    },
    {
      "cell_type": "code",
      "source": [
        "# 📈 Plot training and validation loss\n",
        "iters, train_losses, val_losses = zip(*losses)\n",
        "plt.plot(iters, train_losses, label=\"Train Loss\")\n",
        "plt.plot(iters, val_losses, label=\"Validation Loss\")\n",
        "plt.xlabel(\"Iterations\")\n",
        "plt.ylabel(\"Loss\")\n",
        "plt.legend()\n",
        "plt.title(\"Training and Validation Loss\")\n",
        "plt.show()\n"
      ],
      "metadata": {
        "colab": {
          "base_uri": "https://localhost:8080/",
          "height": 472
        },
        "id": "gy92YfUfYCtc",
        "outputId": "21a714aa-6cc4-4b71-c6e0-8580a8e6ad7e"
      },
      "execution_count": 8,
      "outputs": [
        {
          "output_type": "display_data",
          "data": {
            "text/plain": [
              "<Figure size 640x480 with 1 Axes>"
            ],
            "image/png": "[encoded data removed]"
          },
          "metadata": {}
        }
      ]
    },
    {
      "cell_type": "code",
      "source": [
        "# ✨ Text generation function\n",
        "def generate_text(model, start_text, length=500, temperature=1.0):\n",
        "    model.eval()\n",
        "    input_ids = torch.tensor(encode(start_text), dtype=torch.long).unsqueeze(0).to(device)\n",
        "    hidden = None\n",
        "    generated = start_text\n",
        "\n",
        "    for _ in range(length):\n",
        "        logits, hidden = model(input_ids, hidden)\n",
        "        logits = logits[:, -1, :] / temperature\n",
        "        probs = torch.softmax(logits, dim=-1)\n",
        "        next_id = torch.multinomial(probs, num_samples=1)\n",
        "        next_char = decode(next_id.view(-1).tolist())\n",
        "        generated += next_char\n",
        "        input_ids = next_id\n",
        "\n",
        "    return generated\n"
      ],
      "metadata": {
        "id": "xJoW335MYFvR"
      },
      "execution_count": 9,
      "outputs": []
    },
    {
      "cell_type": "code",
      "source": [
        "# 🎉 Generate new text!\n",
        "start_text = \"ROMEO:\"\n",
        "generated_text = generate_text(model, start_text, length=1000, temperature=0.8)\n",
        "print(generated_text)\n"
      ],
      "metadata": {
        "colab": {
          "base_uri": "https://localhost:8080/"
        },
        "id": "AArXU8cHYIyQ",
        "outputId": "d75dc7cd-9881-4fa2-9654-74b339f10885"
      },
      "execution_count": 10,
      "outputs": [
        {
          "output_type": "stream",
          "name": "stdout",
          "text": [
            "ROMEO:\n",
            "You have a many words, like a need, a stand in\n",
            "The fly so seen and deposed himself.\n",
            "\n",
            "KING HENRY VI:\n",
            "And thou would hath slain to let me prevented your words;\n",
            "And, lords, I shall fell I'll tell thee, as I would not pardon\n",
            "The curse it.\n",
            "\n",
            "LADY CAPULET:\n",
            "My liege; I would my good love, your daughter?\n",
            "\n",
            "QUEEN ELIZABETH:\n",
            "Fareweelly; and all to thee to speak.\n",
            "\n",
            "PRINCE EDWARD:\n",
            "Why, when she good upon my brothers,\n",
            "Thereof what this which you will have some infection\n",
            "Which I wast to does peeper, the duke have\n",
            "For the people prosperty, you shall a\n",
            "curse of reasonous man against thee with the sun of this:\n",
            "And yet you have to be revenerate as she stay'd.\n",
            "Being them not this tabby with her.\n",
            "\n",
            "SICINIUS:\n",
            "Be thou condains, the heavens' keel themselves?\n",
            "Imand more than the two limpting Henry's death\n",
            "Dare still as in the common judgments of a free\n",
            "After him steeps of now's virgee, and your done.\n",
            "But that I shall know the sovereign at the weet\n",
            "To fled to save the fire of Ancher, wholese\n",
            "That doth 'twere word\n"
          ]
        }
      ]
    }
  ]
}