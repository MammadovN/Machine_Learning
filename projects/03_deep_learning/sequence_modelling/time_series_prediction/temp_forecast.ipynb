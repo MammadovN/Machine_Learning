{
  "nbformat": 4,
  "nbformat_minor": 0,
  "metadata": {
    "colab": {
      "provenance": [],
      "gpuType": "T4",
      "authorship_tag": "ABX9TyMo/ppW6afohpsFB/p4NBTC",
      "include_colab_link": true
    },
    "kernelspec": {
      "name": "python3",
      "display_name": "Python 3"
    },
    "language_info": {
      "name": "python"
    },
    "accelerator": "GPU"
  },
  "cells": [
    {
      "cell_type": "markdown",
      "metadata": {
        "id": "view-in-github",
        "colab_type": "text"
      },
      "source": [
        "<a href=\"https://colab.research.google.com/github/MammadovN/Machine_Learning/blob/main/projects/03_deep_learning/sequence_modelling/time_series_prediction/Temp_Forecast.ipynb\" target=\"_parent\"><img src=\"https://colab.research.google.com/assets/colab-badge.svg\" alt=\"Open In Colab\"/></a>"
      ]
    },
    {
      "cell_type": "code",
      "execution_count": 1,
      "metadata": {
        "id": "0Tc8sNYwC_ps"
      },
      "outputs": [],
      "source": [
        "import os, io, zipfile, requests, math, random\n",
        "import pandas as pd, numpy as np\n",
        "from sklearn.preprocessing import StandardScaler\n",
        "import torch, torch.nn as nn\n",
        "from torch.utils.data import TensorDataset, DataLoader\n",
        "from tqdm import tqdm\n",
        "import matplotlib.pyplot as plt\n",
        "plt.rcParams[\"figure.figsize\"] = (8,4)\n",
        "\n",
        "DEVICE = \"cuda\" if torch.cuda.is_available() else \"cpu\"\n",
        "SEED    = 42\n",
        "torch.manual_seed(SEED); np.random.seed(SEED); random.seed(SEED)"
      ]
    },
    {
      "cell_type": "code",
      "source": [
        "URL = \"https://raw.githubusercontent.com/jbrownlee/Datasets/master/daily-min-temperatures.csv\"  # :contentReference[oaicite:0]{index=0}\n",
        "\n",
        "csv = requests.get(URL, timeout=30).content\n",
        "df = pd.read_csv(io.BytesIO(csv), parse_dates=[\"Date\"])\n",
        "df.rename(columns={\"Temp\": \"temp_c\"}, inplace=True)\n",
        "df.sort_values(\"Date\", inplace=True)\n"
      ],
      "metadata": {
        "id": "AHwGT1ZTDGA9"
      },
      "execution_count": 2,
      "outputs": []
    },
    {
      "cell_type": "code",
      "source": [
        "look_back = 30\n",
        "val_ratio = test_ratio = 0.15\n",
        "n = len(df)\n",
        "test_len = int(n * test_ratio); val_len = int(n * val_ratio)\n",
        "train_df = df.iloc[: -val_len - test_len]\n",
        "val_df   = df.iloc[-val_len - test_len : -test_len]\n",
        "test_df  = df.iloc[-test_len:]\n",
        "\n",
        "scaler = StandardScaler().fit(train_df.temp_c.values.reshape(-1,1))\n",
        "def norm(a):  return scaler.transform(a.reshape(-1,1)).squeeze()\n",
        "\n",
        "def windows(a, lb):\n",
        "    X, y = [], []\n",
        "    for i in range(len(a) - lb):\n",
        "        X.append(a[i:i+lb]); y.append(a[i+lb])\n",
        "    return np.array(X), np.array(y)\n",
        "\n",
        "Xtr, ytr = windows(norm(train_df.temp_c.values), look_back)\n",
        "Xva, yva = windows(norm(val_df.temp_c.values), look_back)\n",
        "batch = 256\n",
        "def loader(X, y, shuffle=True):\n",
        "    ds = TensorDataset(torch.tensor(X).float().unsqueeze(-1),\n",
        "                       torch.tensor(y).float().unsqueeze(-1))\n",
        "    return DataLoader(ds, batch_size=batch, shuffle=shuffle)\n",
        "train_loader = loader(Xtr, ytr, True)\n",
        "val_loader   = loader(Xva, yva, False)\n"
      ],
      "metadata": {
        "id": "dqAY-JW5DHDY"
      },
      "execution_count": 3,
      "outputs": []
    },
    {
      "cell_type": "code",
      "source": [
        "class LSTM(nn.Module):\n",
        "    def __init__(self, hid=128, layers=2, drop=0.1):\n",
        "        super().__init__()\n",
        "        self.lstm = nn.LSTM(1, hid, layers, dropout=drop, batch_first=True)\n",
        "        self.fc   = nn.Linear(hid, 1)\n",
        "    def forward(self, x):\n",
        "        out,_ = self.lstm(x)\n",
        "        return self.fc(out[:,-1])\n",
        "\n",
        "model = LSTM().to(DEVICE)\n",
        "optim  = torch.optim.Adam(model.parameters(), lr=1e-3)\n",
        "loss_fn = nn.MSELoss()"
      ],
      "metadata": {
        "id": "0UdhTdjGDk6Y"
      },
      "execution_count": 4,
      "outputs": []
    },
    {
      "cell_type": "code",
      "source": [
        "epochs = 50\n",
        "best = math.inf\n",
        "for ep in range(1, epochs+1):\n",
        "    model.train()\n",
        "    for xb,yb in tqdm(train_loader, desc=f\"Epoch {ep}/{epochs}\", leave=False):\n",
        "        xb, yb = xb.to(DEVICE), yb.to(DEVICE)\n",
        "        optim.zero_grad()\n",
        "        loss = loss_fn(model(xb), yb)\n",
        "        loss.backward()\n",
        "        optim.step()\n",
        "    # validation\n",
        "    model.eval(); val_loss = 0\n",
        "    with torch.no_grad():\n",
        "        for xb,yb in val_loader:\n",
        "            xb,yb = xb.to(DEVICE), yb.to(DEVICE)\n",
        "            val_loss += loss_fn(model(xb), yb).item() * len(xb)\n",
        "    val_rmse = (val_loss/len(val_loader.dataset))**0.5\n",
        "    print(f\"  val_RMSE: {val_rmse:.3f} °C\")\n",
        "    if val_rmse < best:\n",
        "        best = val_rmse\n",
        "        torch.save({\"model\": model.state_dict(), \"scaler\": scaler}, \"best.pth\")"
      ],
      "metadata": {
        "colab": {
          "base_uri": "https://localhost:8080/"
        },
        "id": "hUez-exxDnwA",
        "outputId": "520c86de-dbab-49de-b4d1-84e2f3d22029"
      },
      "execution_count": 5,
      "outputs": [
        {
          "output_type": "stream",
          "name": "stderr",
          "text": []
        },
        {
          "output_type": "stream",
          "name": "stdout",
          "text": [
            "  val_RMSE: 0.760 °C\n"
          ]
        },
        {
          "output_type": "stream",
          "name": "stderr",
          "text": []
        },
        {
          "output_type": "stream",
          "name": "stdout",
          "text": [
            "  val_RMSE: 0.692 °C\n"
          ]
        },
        {
          "output_type": "stream",
          "name": "stderr",
          "text": []
        },
        {
          "output_type": "stream",
          "name": "stdout",
          "text": [
            "  val_RMSE: 0.658 °C\n"
          ]
        },
        {
          "output_type": "stream",
          "name": "stderr",
          "text": []
        },
        {
          "output_type": "stream",
          "name": "stdout",
          "text": [
            "  val_RMSE: 0.655 °C\n"
          ]
        },
        {
          "output_type": "stream",
          "name": "stderr",
          "text": []
        },
        {
          "output_type": "stream",
          "name": "stdout",
          "text": [
            "  val_RMSE: 0.648 °C\n"
          ]
        },
        {
          "output_type": "stream",
          "name": "stderr",
          "text": []
        },
        {
          "output_type": "stream",
          "name": "stdout",
          "text": [
            "  val_RMSE: 0.645 °C\n"
          ]
        },
        {
          "output_type": "stream",
          "name": "stderr",
          "text": []
        },
        {
          "output_type": "stream",
          "name": "stdout",
          "text": [
            "  val_RMSE: 0.640 °C\n"
          ]
        },
        {
          "output_type": "stream",
          "name": "stderr",
          "text": []
        },
        {
          "output_type": "stream",
          "name": "stdout",
          "text": [
            "  val_RMSE: 0.633 °C\n"
          ]
        },
        {
          "output_type": "stream",
          "name": "stderr",
          "text": []
        },
        {
          "output_type": "stream",
          "name": "stdout",
          "text": [
            "  val_RMSE: 0.627 °C\n"
          ]
        },
        {
          "output_type": "stream",
          "name": "stderr",
          "text": []
        },
        {
          "output_type": "stream",
          "name": "stdout",
          "text": [
            "  val_RMSE: 0.618 °C\n"
          ]
        },
        {
          "output_type": "stream",
          "name": "stderr",
          "text": []
        },
        {
          "output_type": "stream",
          "name": "stdout",
          "text": [
            "  val_RMSE: 0.604 °C\n"
          ]
        },
        {
          "output_type": "stream",
          "name": "stderr",
          "text": []
        },
        {
          "output_type": "stream",
          "name": "stdout",
          "text": [
            "  val_RMSE: 0.586 °C\n"
          ]
        },
        {
          "output_type": "stream",
          "name": "stderr",
          "text": []
        },
        {
          "output_type": "stream",
          "name": "stdout",
          "text": [
            "  val_RMSE: 0.574 °C\n"
          ]
        },
        {
          "output_type": "stream",
          "name": "stderr",
          "text": []
        },
        {
          "output_type": "stream",
          "name": "stdout",
          "text": [
            "  val_RMSE: 0.572 °C\n"
          ]
        },
        {
          "output_type": "stream",
          "name": "stderr",
          "text": []
        },
        {
          "output_type": "stream",
          "name": "stdout",
          "text": [
            "  val_RMSE: 0.568 °C\n"
          ]
        },
        {
          "output_type": "stream",
          "name": "stderr",
          "text": []
        },
        {
          "output_type": "stream",
          "name": "stdout",
          "text": [
            "  val_RMSE: 0.566 °C\n"
          ]
        },
        {
          "output_type": "stream",
          "name": "stderr",
          "text": []
        },
        {
          "output_type": "stream",
          "name": "stdout",
          "text": [
            "  val_RMSE: 0.571 °C\n"
          ]
        },
        {
          "output_type": "stream",
          "name": "stderr",
          "text": []
        },
        {
          "output_type": "stream",
          "name": "stdout",
          "text": [
            "  val_RMSE: 0.566 °C\n"
          ]
        },
        {
          "output_type": "stream",
          "name": "stderr",
          "text": []
        },
        {
          "output_type": "stream",
          "name": "stdout",
          "text": [
            "  val_RMSE: 0.570 °C\n"
          ]
        },
        {
          "output_type": "stream",
          "name": "stderr",
          "text": []
        },
        {
          "output_type": "stream",
          "name": "stdout",
          "text": [
            "  val_RMSE: 0.564 °C\n"
          ]
        },
        {
          "output_type": "stream",
          "name": "stderr",
          "text": []
        },
        {
          "output_type": "stream",
          "name": "stdout",
          "text": [
            "  val_RMSE: 0.564 °C\n"
          ]
        },
        {
          "output_type": "stream",
          "name": "stderr",
          "text": []
        },
        {
          "output_type": "stream",
          "name": "stdout",
          "text": [
            "  val_RMSE: 0.564 °C\n"
          ]
        },
        {
          "output_type": "stream",
          "name": "stderr",
          "text": []
        },
        {
          "output_type": "stream",
          "name": "stdout",
          "text": [
            "  val_RMSE: 0.562 °C\n"
          ]
        },
        {
          "output_type": "stream",
          "name": "stderr",
          "text": []
        },
        {
          "output_type": "stream",
          "name": "stdout",
          "text": [
            "  val_RMSE: 0.563 °C\n"
          ]
        },
        {
          "output_type": "stream",
          "name": "stderr",
          "text": []
        },
        {
          "output_type": "stream",
          "name": "stdout",
          "text": [
            "  val_RMSE: 0.564 °C\n"
          ]
        },
        {
          "output_type": "stream",
          "name": "stderr",
          "text": []
        },
        {
          "output_type": "stream",
          "name": "stdout",
          "text": [
            "  val_RMSE: 0.563 °C\n"
          ]
        },
        {
          "output_type": "stream",
          "name": "stderr",
          "text": []
        },
        {
          "output_type": "stream",
          "name": "stdout",
          "text": [
            "  val_RMSE: 0.565 °C\n"
          ]
        },
        {
          "output_type": "stream",
          "name": "stderr",
          "text": []
        },
        {
          "output_type": "stream",
          "name": "stdout",
          "text": [
            "  val_RMSE: 0.564 °C\n"
          ]
        },
        {
          "output_type": "stream",
          "name": "stderr",
          "text": []
        },
        {
          "output_type": "stream",
          "name": "stdout",
          "text": [
            "  val_RMSE: 0.567 °C\n"
          ]
        },
        {
          "output_type": "stream",
          "name": "stderr",
          "text": []
        },
        {
          "output_type": "stream",
          "name": "stdout",
          "text": [
            "  val_RMSE: 0.562 °C\n"
          ]
        },
        {
          "output_type": "stream",
          "name": "stderr",
          "text": []
        },
        {
          "output_type": "stream",
          "name": "stdout",
          "text": [
            "  val_RMSE: 0.563 °C\n"
          ]
        },
        {
          "output_type": "stream",
          "name": "stderr",
          "text": []
        },
        {
          "output_type": "stream",
          "name": "stdout",
          "text": [
            "  val_RMSE: 0.561 °C\n"
          ]
        },
        {
          "output_type": "stream",
          "name": "stderr",
          "text": []
        },
        {
          "output_type": "stream",
          "name": "stdout",
          "text": [
            "  val_RMSE: 0.562 °C\n"
          ]
        },
        {
          "output_type": "stream",
          "name": "stderr",
          "text": []
        },
        {
          "output_type": "stream",
          "name": "stdout",
          "text": [
            "  val_RMSE: 0.561 °C\n"
          ]
        },
        {
          "output_type": "stream",
          "name": "stderr",
          "text": []
        },
        {
          "output_type": "stream",
          "name": "stdout",
          "text": [
            "  val_RMSE: 0.561 °C\n"
          ]
        },
        {
          "output_type": "stream",
          "name": "stderr",
          "text": []
        },
        {
          "output_type": "stream",
          "name": "stdout",
          "text": [
            "  val_RMSE: 0.564 °C\n"
          ]
        },
        {
          "output_type": "stream",
          "name": "stderr",
          "text": []
        },
        {
          "output_type": "stream",
          "name": "stdout",
          "text": [
            "  val_RMSE: 0.564 °C\n"
          ]
        },
        {
          "output_type": "stream",
          "name": "stderr",
          "text": []
        },
        {
          "output_type": "stream",
          "name": "stdout",
          "text": [
            "  val_RMSE: 0.559 °C\n"
          ]
        },
        {
          "output_type": "stream",
          "name": "stderr",
          "text": []
        },
        {
          "output_type": "stream",
          "name": "stdout",
          "text": [
            "  val_RMSE: 0.560 °C\n"
          ]
        },
        {
          "output_type": "stream",
          "name": "stderr",
          "text": []
        },
        {
          "output_type": "stream",
          "name": "stdout",
          "text": [
            "  val_RMSE: 0.560 °C\n"
          ]
        },
        {
          "output_type": "stream",
          "name": "stderr",
          "text": []
        },
        {
          "output_type": "stream",
          "name": "stdout",
          "text": [
            "  val_RMSE: 0.560 °C\n"
          ]
        },
        {
          "output_type": "stream",
          "name": "stderr",
          "text": []
        },
        {
          "output_type": "stream",
          "name": "stdout",
          "text": [
            "  val_RMSE: 0.560 °C\n"
          ]
        },
        {
          "output_type": "stream",
          "name": "stderr",
          "text": []
        },
        {
          "output_type": "stream",
          "name": "stdout",
          "text": [
            "  val_RMSE: 0.560 °C\n"
          ]
        },
        {
          "output_type": "stream",
          "name": "stderr",
          "text": []
        },
        {
          "output_type": "stream",
          "name": "stdout",
          "text": [
            "  val_RMSE: 0.563 °C\n"
          ]
        },
        {
          "output_type": "stream",
          "name": "stderr",
          "text": []
        },
        {
          "output_type": "stream",
          "name": "stdout",
          "text": [
            "  val_RMSE: 0.559 °C\n"
          ]
        },
        {
          "output_type": "stream",
          "name": "stderr",
          "text": []
        },
        {
          "output_type": "stream",
          "name": "stdout",
          "text": [
            "  val_RMSE: 0.560 °C\n"
          ]
        },
        {
          "output_type": "stream",
          "name": "stderr",
          "text": []
        },
        {
          "output_type": "stream",
          "name": "stdout",
          "text": [
            "  val_RMSE: 0.560 °C\n"
          ]
        },
        {
          "output_type": "stream",
          "name": "stderr",
          "text": []
        },
        {
          "output_type": "stream",
          "name": "stdout",
          "text": [
            "  val_RMSE: 0.560 °C\n"
          ]
        },
        {
          "output_type": "stream",
          "name": "stderr",
          "text": []
        },
        {
          "output_type": "stream",
          "name": "stdout",
          "text": [
            "  val_RMSE: 0.563 °C\n"
          ]
        },
        {
          "output_type": "stream",
          "name": "stderr",
          "text": [
            "                                                   "
          ]
        },
        {
          "output_type": "stream",
          "name": "stdout",
          "text": [
            "  val_RMSE: 0.560 °C\n"
          ]
        },
        {
          "output_type": "stream",
          "name": "stderr",
          "text": [
            "\r"
          ]
        }
      ]
    },
    {
      "cell_type": "code",
      "source": [
        "def predict_future(steps=14, ckpt_path=\"best.pth\"):\n",
        "    chk = torch.load(ckpt_path, map_location=DEVICE, weights_only=False)\n",
        "\n",
        "    model.load_state_dict(chk[\"model\"])\n",
        "    model.eval()\n",
        "    scl = chk[\"scaler\"]\n",
        "\n",
        "    series = df.temp_c.values\n",
        "    norm_series = norm(series)\n",
        "    window = norm_series[-look_back:].tolist()\n",
        "\n",
        "    preds_norm = []\n",
        "    with torch.no_grad():\n",
        "        for _ in range(steps):\n",
        "            inp = (\n",
        "                torch.tensor(window[-look_back:], dtype=torch.float32, device=DEVICE)\n",
        "                .unsqueeze(0)          # (1, look_back)\n",
        "                .unsqueeze(-1)         # (1, look_back, 1)\n",
        "            )\n",
        "            next_norm = model(inp).cpu().item()\n",
        "            preds_norm.append(next_norm)\n",
        "            window.append(next_norm)\n",
        "\n",
        "    return scl.inverse_transform(np.array(preds_norm).reshape(-1, 1)).squeeze()\n",
        "\n",
        "\n",
        "future = predict_future(14)\n",
        "dates  = pd.date_range(df.Date.iloc[-1] + pd.Timedelta(days=1), periods=14)\n"
      ],
      "metadata": {
        "id": "AocEXqLIDsdx"
      },
      "execution_count": 7,
      "outputs": []
    },
    {
      "cell_type": "code",
      "source": [
        "plt.plot(df.Date, df.temp_c, label=\"Actual\")\n",
        "plt.plot(dates, future, marker=\"o\", linestyle=\"--\", label=\"Forecast (14 days)\")\n",
        "plt.title(\"Melbourne Daily Minimum Temperature – LSTM Forecast\")\n",
        "plt.xlabel(\"Date\")\n",
        "plt.ylabel(\"°C\")\n",
        "plt.legend()\n",
        "plt.grid(True)\n",
        "plt.show()\n",
        "\n",
        "print(\"\\nForecast:\")\n",
        "for d, t in zip(dates, future):\n",
        "    print(f\"{d.date()} → {t:.2f} °C\")\n"
      ],
      "metadata": {
        "colab": {
          "base_uri": "https://localhost:8080/",
          "height": 688
        },
        "id": "xozBqdMbDxZL",
        "outputId": "3671373d-4e98-4e56-f146-d2ca4cd1210b"
      },
      "execution_count": 9,
      "outputs": [
        {
          "output_type": "display_data",
          "data": {
            "text/plain": [
              "<Figure size 800x400 with 1 Axes>"
            ],
            "image/png": "[encoded data removed]"
          },
          "metadata": {}
        },
        {
          "output_type": "stream",
          "name": "stdout",
          "text": [
            "\n",
            "Forecast:\n",
            "1991-01-01 → 13.08 °C\n",
            "1991-01-02 → 13.45 °C\n",
            "1991-01-03 → 13.66 °C\n",
            "1991-01-04 → 13.73 °C\n",
            "1991-01-05 → 13.73 °C\n",
            "1991-01-06 → 13.71 °C\n",
            "1991-01-07 → 13.70 °C\n",
            "1991-01-08 → 13.69 °C\n",
            "1991-01-09 → 13.69 °C\n",
            "1991-01-10 → 13.70 °C\n",
            "1991-01-11 → 13.72 °C\n",
            "1991-01-12 → 13.73 °C\n",
            "1991-01-13 → 13.74 °C\n",
            "1991-01-14 → 13.75 °C\n"
          ]
        }
      ]
    }
  ]
}
